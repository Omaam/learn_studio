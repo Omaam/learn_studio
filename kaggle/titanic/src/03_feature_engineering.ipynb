{
 "cells": [
  {
   "cell_type": "code",
   "execution_count": 1,
   "metadata": {},
   "outputs": [],
   "source": [
    "import numpy as np\n",
    "import pandas as pd\n",
    "\n",
    "train = pd.read_csv(\"../input/train.csv\")\n",
    "test = pd.read_csv(\"../input/test.csv\")\n",
    "gender_submission = pd.read_csv(\"../input/gender_submission.csv\")\n",
    "\n",
    "# Previous feature engineering.\n",
    "data = pd.concat([train, test], sort=False)\n",
    "\n",
    "data[\"Sex\"] = data[\"Sex\"].replace(\n",
    "    {\n",
    "        \"male\": 0,\n",
    "        \"female\": 1\n",
    "    }\n",
    ")\n",
    "\n",
    "data[\"Embarked\"] = data[\"Embarked\"].fillna(\"S\")\n",
    "data[\"Embarked\"] = data[\"Embarked\"].map(\n",
    "    {\n",
    "        \"S\": 0,\n",
    "        \"C\": 1,\n",
    "        \"Q\": 2,\n",
    "    }\n",
    ").astype(int)\n",
    "\n",
    "data[\"Fare\"] = data[\"Fare\"].fillna(np.mean(data[\"Fare\"]))\n",
    "\n",
    "data[\"Age\"] = data[\"Age\"].fillna(data[\"Age\"].median())"
   ]
  },
  {
   "cell_type": "code",
   "execution_count": 2,
   "metadata": {},
   "outputs": [
    {
     "data": {
      "text/plain": [
       "<AxesSubplot:xlabel='FamilySize', ylabel='count'>"
      ]
     },
     "execution_count": 2,
     "metadata": {},
     "output_type": "execute_result"
    },
    {
     "data": {
      "image/png": "[encoded data removed]",
      "text/plain": [
       "<Figure size 432x288 with 1 Axes>"
      ]
     },
     "metadata": {},
     "output_type": "display_data"
    }
   ],
   "source": [
    "# Feature engeenering.\n",
    "data[\"FamilySize\"] = data[\"Parch\"] + data[\"SibSp\"] + 1\n",
    "train[\"FamilySize\"] = data[\"FamilySize\"][:len(train)]\n",
    "test[\"FamilySize\"] = data[\"FamilySize\"][len(train):]\n",
    "\n",
    "import seaborn as sns\n",
    "sns.set(context=\"talk\", style=\"whitegrid\")\n",
    "sns.countplot(data=train, x=\"FamilySize\", hue=\"Survived\")"
   ]
  },
  {
   "cell_type": "code",
   "execution_count": 3,
   "metadata": {},
   "outputs": [],
   "source": [
    "data[\"IsAlone\"] = 0\n",
    "data[\"IsAlone\"]  = (data[\"FamilySize\"] == 1).astype(int)\n",
    "\n",
    "train[\"IsAlone\"] = data[\"IsAlone\"][:len(train)]\n",
    "test[\"IsAlone\"] = data[\"IsAlone\"][len(train):]"
   ]
  },
  {
   "cell_type": "code",
   "execution_count": 4,
   "metadata": {},
   "outputs": [],
   "source": [
    "delete_columns = [\"Name\", \"PassengerId\", \"SibSp\", \"Parch\", \"Ticket\", \"Cabin\"]\n",
    "data = data.drop(delete_columns, axis=1)\n",
    "\n",
    "train = data[:len(train)]\n",
    "test = data[len(train):]\n",
    "\n",
    "y_train = train[\"Survived\"]\n",
    "X_train = train.drop(\"Survived\", axis=1)\n",
    "X_test = test.drop(\"Survived\", axis=1)"
   ]
  },
  {
   "cell_type": "code",
   "execution_count": 5,
   "metadata": {},
   "outputs": [
    {
     "name": "stderr",
     "output_type": "stream",
     "text": [
      "/Users/omamatomoki/Soft/anaconda3/lib/python3.9/site-packages/sklearn/linear_model/_sag.py:352: ConvergenceWarning: The max_iter was reached which means the coef_ did not converge\n",
      "  warnings.warn(\n"
     ]
    }
   ],
   "source": [
    "from sklearn.linear_model import LogisticRegression\n",
    "\n",
    "# Add 'IsAlone' and 'FamilySize'.\n",
    "clf = LogisticRegression(penalty=\"l2\", solver=\"sag\", random_state=0)\n",
    "clf.fit(X_train, y_train)\n",
    "y_pred = clf.predict(X_test)\n",
    "\n",
    "sub = gender_submission.copy()\n",
    "sub[\"Survived\"] = y_pred.astype(int)\n",
    "sub.to_csv(\"../output/submission_familysize_isalone.csv\", index=False)"
   ]
  },
  {
   "cell_type": "code",
   "execution_count": 6,
   "metadata": {},
   "outputs": [
    {
     "name": "stderr",
     "output_type": "stream",
     "text": [
      "/Users/omamatomoki/Soft/anaconda3/lib/python3.9/site-packages/sklearn/linear_model/_sag.py:352: ConvergenceWarning: The max_iter was reached which means the coef_ did not converge\n",
      "  warnings.warn(\n"
     ]
    }
   ],
   "source": [
    "# Add 'IsAlone', not 'FamilySize'\n",
    "clf = LogisticRegression(penalty=\"l2\", solver=\"sag\", random_state=0)\n",
    "\n",
    "clf.fit(X_train.drop(\"FamilySize\", axis=1), y_train)\n",
    "y_pred = clf.predict(X_test.drop(\"FamilySize\", axis=1))\n",
    "\n",
    "sub = gender_submission.copy()\n",
    "sub[\"Survived\"] = y_pred.astype(int)\n",
    "sub.to_csv(\"../output/submission_isalone.csv\", index=False)"
   ]
  },
  {
   "cell_type": "code",
   "execution_count": 7,
   "metadata": {},
   "outputs": [
    {
     "name": "stderr",
     "output_type": "stream",
     "text": [
      "/Users/omamatomoki/Soft/anaconda3/lib/python3.9/site-packages/sklearn/linear_model/_sag.py:352: ConvergenceWarning: The max_iter was reached which means the coef_ did not converge\n",
      "  warnings.warn(\n"
     ]
    }
   ],
   "source": [
    "# Add 'FamilySize', not 'IsAlone' \n",
    "clf = LogisticRegression(penalty=\"l2\", solver=\"sag\", random_state=0)\n",
    "\n",
    "clf.fit(X_train.drop(\"IsAlone\", axis=1), y_train)\n",
    "y_pred = clf.predict(X_test.drop(\"IsAlone\", axis=1))\n",
    "\n",
    "sub = gender_submission.copy()\n",
    "sub[\"Survived\"] = y_pred.astype(int)\n",
    "sub.to_csv(\"../output/submission_familysize.csv\", index=False)"
   ]
  }
 ],
 "metadata": {
  "interpreter": {
   "hash": "3fc52a40219f3b9d0bc02d10d961f3423cf146c2126e7ec7423f7462d6408f94"
  },
  "kernelspec": {
   "display_name": "Python 3.9.7 ('base')",
   "language": "python",
   "name": "python3"
  },
  "language_info": {
   "codemirror_mode": {
    "name": "ipython",
    "version": 3
   },
   "file_extension": ".py",
   "mimetype": "text/x-python",
   "name": "python",
   "nbconvert_exporter": "python",
   "pygments_lexer": "ipython3",
   "version": "3.9.7"
  },
  "orig_nbformat": 4
 },
 "nbformat": 4,
 "nbformat_minor": 2
}
